{
  "nbformat": 4,
  "nbformat_minor": 0,
  "metadata": {
    "colab": {
      "name": "faceFocusBot.ipynb",
      "provenance": [],
      "authorship_tag": "ABX9TyNykmzB/Cke5xMuf895KsED",
      "include_colab_link": true
    },
    "kernelspec": {
      "name": "python3",
      "display_name": "Python 3"
    },
    "language_info": {
      "name": "python"
    }
  },
  "cells": [
    {
      "cell_type": "markdown",
      "metadata": {
        "id": "view-in-github",
        "colab_type": "text"
      },
      "source": [
        "<a href=\"https://colab.research.google.com/github/vishnu-chand/faceFocusBot/blob/main/faceFocusBot.ipynb\" target=\"_parent\"><img src=\"https://colab.research.google.com/assets/colab-badge.svg\" alt=\"Open In Colab\"/></a>"
      ]
    },
    {
      "cell_type": "code",
      "source": [
        "%load_ext autoreload\n",
        "%autoreload 2\n",
        "\n",
        "import os\n",
        "if '' or not os.path.exists('/content/pixUtils'):\n",
        "    !git clone https://github.com/vishnu-chand/pixUtils.git;mv pixUtils deleteMe;mv deleteMe/pixUtils .;rm -rf deleteMe\n",
        "    !pip install youtube_dl\n",
        "\n",
        "import dlib\n",
        "from pixUtils import *\n",
        "\n",
        "def dbbox2bbox(img, dbbox):\n",
        "    x = dbbox.left()\n",
        "    y = dbbox.top()\n",
        "    w = dbbox.right() - x\n",
        "    h = dbbox.bottom() - y\n",
        "    return frameFit(img, (x, y, w, h))\n",
        "\n",
        "\n",
        "def bboxScale(img, bbox, roi):\n",
        "    bbox = bbox * roi  # roi = top, left, width, height\n",
        "    return frameFit(img, bbox)\n",
        "\n",
        "\n",
        "def disp(bbox, stableBbox, faceBox, img):\n",
        "    stableImg = getSubImg(img.copy(), stableBbox)\n",
        "    stableImg = bboxLabel(stableImg, \"output\")\n",
        "    (stH, stW), thickness = stableImg.shape[:2], 15\n",
        "    stableImg = bboxLabel(stableImg, \"\", [0, 0, stW - thickness / 2, stH - thickness / 2], (0, 128, 0), thickness=thickness)\n",
        "    img = bboxLabel(img, \"\", faceBox)\n",
        "    simg = getSubImg(img, bbox).copy()\n",
        "    simg = bboxLabel(simg, \"with jitters\")\n",
        "    img = bboxLabel(img, \"roi\", stableBbox, (0, 255, 255))\n",
        "    simg = photoframe([stableImg, simg])\n",
        "    (sH, sW), (h, stH) = simg.shape[:2], img.shape[:2]\n",
        "    img = imResize(img, [sH, int(sH / sW * stH)])\n",
        "    debug = cv2.hconcat([simg, img])\n",
        "    return debug\n",
        "\n",
        "\n",
        "def main(vPath, startSec, stopSec, roi, desPath):\n",
        "    detector = dlib.get_frontal_face_detector()\n",
        "    stableBbox, simg, faceBox, cam = None, None, None, cv2.VideoCapture(vPath)\n",
        "    with VideoWriter(desPath, cam) as vWriter:\n",
        "        for fno, ftm, img in videoPlayer(cam, startSec=startSec, stopSec=stopSec):\n",
        "            bbox = detector(img, 0)\n",
        "            if bbox:\n",
        "                faceBox = dbbox2bbox(img, bbox[0])\n",
        "                bbox = bboxScale(img, faceBox, roi)\n",
        "                if stableBbox is None:\n",
        "                    stableBbox = bbox\n",
        "                stableBbox = stableBbox * .95 + bbox * .05\n",
        "            else:\n",
        "                bbox = stableBbox\n",
        "            debug = disp(bbox, stableBbox, faceBox, img)\n",
        "            vWriter.write(debug)\n",
        "            # key = showImg('faceStable_resized', debug, 1)\n",
        "            # if key == 27:\n",
        "                # break\n",
        "\n",
        "downloadDB('youtube+https://www.youtube.com/watch?v=Lf3kPo8WYM4', '/content/db')\n",
        "vPath = rglob('/content/db/*.mp4')[0]\n",
        "main(vPath, startSec=25, stopSec=57, roi=np.array([.5, .7, 8, 10]), desPath='/content/out.mp4')"
      ],
      "metadata": {
        "colab": {
          "base_uri": "https://localhost:8080/"
        },
        "id": "K_YNvOR8tHyk",
        "outputId": "dcc70eeb-ea9a-4117-fc5a-94131008b3ef"
      },
      "execution_count": 16,
      "outputs": [
        {
          "output_type": "stream",
          "name": "stdout",
          "text": [
            "The autoreload extension is already loaded. To reload it, use:\n",
            "  %reload_ext autoreload\n"
          ]
        }
      ]
    }
  ]
}